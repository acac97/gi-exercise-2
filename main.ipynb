{
 "cells": [
  {
   "cell_type": "code",
   "execution_count": 23,
   "metadata": {},
   "outputs": [
    {
     "name": "stdout",
     "output_type": "stream",
     "text": [
      "First read flag field:\t\t\t\t\t\t 1187\n",
      "Unmapped reads:\t\t\t\t\t\t\t17765\n",
      "Total reads:\t\t\t\t\t\t\t2921629\n",
      "Mapping quality 0:\t\t\t\t\t\t126628\n",
      "Average mapping quality:\t\t\t\t\t55.91\n",
      "Average mapping quality without reads with mapping quality 0:\t58.45\n"
     ]
    }
   ],
   "source": [
    "from pysam import AlignmentFile\n",
    "\n",
    "\n",
    "unmapped = 0\n",
    "reads = 0\n",
    "mapping_quality0 = 0\n",
    "mapping_quality_sum = 0\n",
    "\n",
    "first = True\n",
    "\n",
    "for read in AlignmentFile(\"/sbgenomics/project-files/merged-tumor.bam\"):\n",
    "    if (first):\n",
    "        print(\"First read flag field:\\t\\t\\t\\t\\t\\t\", read.flag)\n",
    "        first = False\n",
    "    \n",
    "    reads += 1\n",
    "    if (read.is_unmapped):\n",
    "        unmapped += 1\n",
    "        \n",
    "    if(read.mapping_quality == 0):\n",
    "        mapping_quality0 += 1\n",
    "        \n",
    "    mapping_quality_sum += read.mapping_quality\n",
    "\n",
    "print(\"Unmapped reads:\\t\\t\\t\\t\\t\\t\\t\" + str(unmapped))\n",
    "print(\"Total reads:\\t\\t\\t\\t\\t\\t\\t\" + str(reads))\n",
    "print(\"Mapping quality 0:\\t\\t\\t\\t\\t\\t\" + str(mapping_quality0))\n",
    "print(\"Average mapping quality:\\t\\t\\t\\t\\t\" + str(round(mapping_quality_sum / reads, 2)))\n",
    "print(\"Average mapping quality without reads with mapping quality 0:\\t\" + str(round(mapping_quality_sum / (reads - mapping_quality0), 2)))\n"
   ]
  },
  {
   "cell_type": "code",
   "execution_count": null,
   "metadata": {},
   "outputs": [],
   "source": []
  }
 ],
 "metadata": {
  "kernelspec": {
   "display_name": "Python 3",
   "language": "python",
   "name": "python3"
  },
  "language_info": {
   "codemirror_mode": {
    "name": "ipython",
    "version": 3
   },
   "file_extension": ".py",
   "mimetype": "text/x-python",
   "name": "python",
   "nbconvert_exporter": "python",
   "pygments_lexer": "ipython3",
   "version": "3.8.3"
  }
 },
 "nbformat": 4,
 "nbformat_minor": 4
}
